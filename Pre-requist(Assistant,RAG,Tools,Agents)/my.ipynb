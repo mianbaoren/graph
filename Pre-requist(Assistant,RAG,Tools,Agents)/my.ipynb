{
 "cells": [
  {
   "cell_type": "code",
   "execution_count": null,
   "id": "180ff7f2",
   "metadata": {},
   "outputs": [],
   "source": [
    "import os"
   ]
  },
  {
   "cell_type": "code",
   "execution_count": 2,
   "id": "44236fb6",
   "metadata": {},
   "outputs": [
    {
     "data": {
      "text/plain": [
       "True"
      ]
     },
     "execution_count": 2,
     "metadata": {},
     "output_type": "execute_result"
    }
   ],
   "source": [
    "import os\n",
    "from dotenv import load_dotenv\n",
    "load_dotenv()"
   ]
  },
  {
   "cell_type": "code",
   "execution_count": 3,
   "id": "32b43a93",
   "metadata": {},
   "outputs": [],
   "source": [
    "GOOGLE_API_KEY=os.getenv(\"GOOGLE_API_KEY\")\n",
    "TAVILY_API_KEY=os.getenv(\"TAVILY_API_KEY\")\n",
    "GROQ_API_KEY=os.getenv(\"GROQ_API_KEY\")\n",
    "LANGCHAIN_API_KEY=os.getenv(\"LANGCHAIN_API_KEY\")\n",
    "LANGCHAIN_PROJECT=os.getenv(\"LANGCHAIN_PROJECT\")"
   ]
  },
  {
   "cell_type": "code",
   "execution_count": 4,
   "id": "5bd4df92",
   "metadata": {},
   "outputs": [],
   "source": [
    "os.environ[\"GOOGLE_API_KEY\"] = GOOGLE_API_KEY\n",
    "os.environ[\"TAVILY_API_KEY\"] = TAVILY_API_KEY\n",
    "os.environ[\"GROQ_API_KEY\"]= GROQ_API_KEY\n",
    "os.environ[\"LANGCHAIN_API_KEY\"] = LANGCHAIN_API_KEY\n",
    "os.environ[\"LANGCHAIN_TRACING_V2\"] = \"true\"\n",
    "os.environ[\"LANGCHAIN_ENDPOINT\"] = \"https://api.smith.langchain.com\"\n",
    "os.environ[\"LANGCHAIN_PROJECT\"]=LANGCHAIN_PROJECT"
   ]
  },
  {
   "cell_type": "code",
   "execution_count": 5,
   "id": "a4c53e91",
   "metadata": {},
   "outputs": [
    {
     "name": "stderr",
     "output_type": "stream",
     "text": [
      "/home/kogepan/graph/.venv/lib/python3.10/site-packages/tqdm/auto.py:21: TqdmWarning: IProgress not found. Please update jupyter and ipywidgets. See https://ipywidgets.readthedocs.io/en/stable/user_install.html\n",
      "  from .autonotebook import tqdm as notebook_tqdm\n"
     ]
    }
   ],
   "source": [
    "from langchain_google_genai import ChatGoogleGenerativeAI, GoogleGenerativeAIEmbeddings\n",
    "\n",
    "# For general text generation\n",
    "llm = ChatGoogleGenerativeAI(\n",
    "    model=\"gemini-2.0-flash\",\n",
    "    temperature=0.5,\n",
    "    max_output_tokens=2048\n",
    ")\n",
    "\n",
    "# For multimodal image+text generation (experimental)\n",
    "multimodal_llm = ChatGoogleGenerativeAI(\n",
    "    model=\"gemini-2.0-flash-exp-image-generation\",\n",
    "    generation_config=dict(response_modalities=[\"TEXT\", \"IMAGE\"])\n",
    ")\n",
    "\n",
    "\n",
    "embeddings = GoogleGenerativeAIEmbeddings(\n",
    "    model=\"gemini-embedding-exp-03-07\",\n",
    "    task_type=\"SEMANTIC_SIMILARITY\"\n",
    ")\n"
   ]
  },
  {
   "cell_type": "code",
   "execution_count": null,
   "id": "14817e1e",
   "metadata": {},
   "outputs": [],
   "source": [
    "'''from langchain_huggingface import HuggingFaceEmbeddings\n",
    "embeddings=HuggingFaceEmbeddings(model_name=\"all-MiniLM-L6-v2\")'''\n",
    "from langchain_groq import ChatGroq\n",
    "import os\n",
    "llm=ChatGroq(model_name=\"Gemma2-9b-It\")"
   ]
  },
  {
   "cell_type": "code",
   "execution_count": 6,
   "id": "28a1c055",
   "metadata": {},
   "outputs": [
    {
     "name": "stdout",
     "output_type": "stream",
     "text": [
      "Determining the *most* popular audio streamer is tricky because popularity can be measured in different ways (number of users, revenue, brand recognition, etc.) and data is often proprietary. However, based on available information and general consensus, here's a breakdown:\n",
      "\n",
      "**Generally considered the most popular, by user base:**\n",
      "\n",
      "*   **Spotify:**  Spotify is almost universally acknowledged as the leading audio streaming platform in terms of active users. They have a massive global presence, a vast music library, and a strong brand.\n",
      "\n",
      "**Other top contenders, with significant market share:**\n",
      "\n",
      "*   **Apple Music:**  Apple Music is a strong competitor, especially due to its integration with Apple's ecosystem of devices and services. It boasts a large subscriber base and a substantial music catalog.\n",
      "*   **Amazon Music:**  Amazon Music benefits from Amazon's huge customer base and its integration with Amazon Prime. They offer different tiers of service, including a free tier for Prime members.\n",
      "*   **YouTube Music:** YouTube Music leverages the massive video platform's reach. It's a popular choice for users who enjoy music videos and live performances.\n",
      "\n",
      "**Factors to consider when evaluating popularity:**\n",
      "\n",
      "*   **Active Users:** The total number of people actively using the service.\n",
      "*   **Subscribers:** The number of paying subscribers.\n",
      "*   **Revenue:** The amount of money the platform generates.\n",
      "*   **Downloads:** The number of times the app has been downloaded.\n",
      "*   **Brand Recognition:** How well-known and recognized the brand is.\n",
      "*   **Regional Differences:** Some platforms are more popular in certain regions than others.\n",
      "\n",
      "**In summary:**\n",
      "\n",
      "While exact figures fluctuate, **Spotify** is generally considered the most popular audio streamer globally based on user base. However, **Apple Music, Amazon Music, and YouTube Music** are also major players with significant market share and loyal users.\n",
      "goodbye take care yourself\n"
     ]
    }
   ],
   "source": [
    "while True:\n",
    "    question=input(\"type your question. if you want to quit the chat write quit\")\n",
    "    if question !=\"quit\":\n",
    "        print(llm.invoke(question).content)\n",
    "    else:\n",
    "        print(\"goodbye take care yourself\")\n",
    "        break"
   ]
  }
 ],
 "metadata": {
  "kernelspec": {
   "display_name": ".venv",
   "language": "python",
   "name": "python3"
  },
  "language_info": {
   "codemirror_mode": {
    "name": "ipython",
    "version": 3
   },
   "file_extension": ".py",
   "mimetype": "text/x-python",
   "name": "python",
   "nbconvert_exporter": "python",
   "pygments_lexer": "ipython3",
   "version": "3.10.12"
  }
 },
 "nbformat": 4,
 "nbformat_minor": 5
}
